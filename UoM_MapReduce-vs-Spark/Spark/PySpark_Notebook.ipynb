{
 "cells": [
  {
   "cell_type": "code",
   "execution_count": 1,
   "id": "ff4100a3-a743-40d3-9c64-ba02e2e9dbed",
   "metadata": {
    "execution": {
     "iopub.execute_input": "2023-03-05T02:37:43.331055Z",
     "iopub.status.busy": "2023-03-05T02:37:43.330731Z",
     "iopub.status.idle": "2023-03-05T02:39:20.620492Z",
     "shell.execute_reply": "2023-03-05T02:39:20.619410Z",
     "shell.execute_reply.started": "2023-03-05T02:37:43.331016Z"
    }
   },
   "outputs": [
    {
     "data": {
      "application/vnd.jupyter.widget-view+json": {
       "model_id": "edc5a3c4db2b4193b2e2d4fce8dddd6e",
       "version_major": 2,
       "version_minor": 0
      },
      "text/plain": [
       "VBox()"
      ]
     },
     "metadata": {},
     "output_type": "display_data"
    },
    {
     "name": "stdout",
     "output_type": "stream",
     "text": [
      "Starting Spark application\n"
     ]
    },
    {
     "data": {
      "text/html": [
       "<table>\n",
       "<tr><th>ID</th><th>YARN Application ID</th><th>Kind</th><th>State</th><th>Spark UI</th><th>Driver log</th><th>User</th><th>Current session?</th></tr><tr><td>0</td><td>application_1677983167944_0001</td><td>pyspark</td><td>idle</td><td><a target=\"_blank\" href=\"http://ip-172-31-61-54.ec2.internal:20888/proxy/application_1677983167944_0001/\" class=\"emr-proxy-link\" emr-resource=\"j-3CJYWXV1UMGJT\n",
       "\" application-id=\"application_1677983167944_0001\">Link</a></td><td><a target=\"_blank\" href=\"http://ip-172-31-54-211.ec2.internal:8042/node/containerlogs/container_1677983167944_0001_01_000001/livy\" >Link</a></td><td>None</td><td>✔</td></tr></table>"
      ],
      "text/plain": [
       "<IPython.core.display.HTML object>"
      ]
     },
     "metadata": {},
     "output_type": "display_data"
    },
    {
     "data": {
      "application/vnd.jupyter.widget-view+json": {
       "model_id": "",
       "version_major": 2,
       "version_minor": 0
      },
      "text/plain": [
       "FloatProgress(value=0.0, bar_style='info', description='Progress:', layout=Layout(height='25px', width='50%'),…"
      ]
     },
     "metadata": {},
     "output_type": "display_data"
    },
    {
     "name": "stdout",
     "output_type": "stream",
     "text": [
      "SparkSession available as 'spark'.\n"
     ]
    },
    {
     "data": {
      "application/vnd.jupyter.widget-view+json": {
       "model_id": "",
       "version_major": 2,
       "version_minor": 0
      },
      "text/plain": [
       "FloatProgress(value=0.0, bar_style='info', description='Progress:', layout=Layout(height='25px', width='50%'),…"
      ]
     },
     "metadata": {},
     "output_type": "display_data"
    }
   ],
   "source": [
    "df = spark.read.csv(\"s3://229366t/DelayedFlights-updated.csv\", header=True, inferSchema=True)"
   ]
  },
  {
   "cell_type": "code",
   "execution_count": 2,
   "id": "b9f1be8a-1e14-4239-9e27-f2e5cb87a111",
   "metadata": {
    "execution": {
     "iopub.execute_input": "2023-03-05T02:39:28.162492Z",
     "iopub.status.busy": "2023-03-05T02:39:28.162149Z",
     "iopub.status.idle": "2023-03-05T02:39:31.732281Z",
     "shell.execute_reply": "2023-03-05T02:39:31.731274Z",
     "shell.execute_reply.started": "2023-03-05T02:39:28.162422Z"
    }
   },
   "outputs": [
    {
     "data": {
      "application/vnd.jupyter.widget-view+json": {
       "model_id": "45778774541141fc864214c05b961100",
       "version_major": 2,
       "version_minor": 0
      },
      "text/plain": [
       "VBox()"
      ]
     },
     "metadata": {},
     "output_type": "display_data"
    },
    {
     "data": {
      "application/vnd.jupyter.widget-view+json": {
       "model_id": "",
       "version_major": 2,
       "version_minor": 0
      },
      "text/plain": [
       "FloatProgress(value=0.0, bar_style='info', description='Progress:', layout=Layout(height='25px', width='50%'),…"
      ]
     },
     "metadata": {},
     "output_type": "display_data"
    },
    {
     "name": "stdout",
     "output_type": "stream",
     "text": [
      "+---+----+-----+----------+---------+-------+----------+-------+----------+-------------+---------+-------+-----------------+--------------+-------+--------+--------+------+----+--------+------+-------+---------+----------------+--------+------------+------------+--------+-------------+-----------------+\n",
      "|_c0|Year|Month|DayofMonth|DayOfWeek|DepTime|CRSDepTime|ArrTime|CRSArrTime|UniqueCarrier|FlightNum|TailNum|ActualElapsedTime|CRSElapsedTime|AirTime|ArrDelay|DepDelay|Origin|Dest|Distance|TaxiIn|TaxiOut|Cancelled|CancellationCode|Diverted|CarrierDelay|WeatherDelay|NASDelay|SecurityDelay|LateAircraftDelay|\n",
      "+---+----+-----+----------+---------+-------+----------+-------+----------+-------------+---------+-------+-----------------+--------------+-------+--------+--------+------+----+--------+------+-------+---------+----------------+--------+------------+------------+--------+-------------+-----------------+\n",
      "|  1|2003|    6|        17|        2|   1310|      1255|   1612|      1615|           AA|     1362| N4YPAA|              122|           140|     93|      -3|      15|   ORD| JFK|     740|     6|     23|        0|               N|       0|        null|        null|    null|         null|             null|\n",
      "|  2|2003|    6|        20|        5|   1303|      1255|   1623|      1615|           AA|     1362| N4XBAA|              140|           140|    100|       8|       8|   ORD| JFK|     740|    11|     29|        0|               N|       0|        null|        null|    null|         null|             null|\n",
      "|  3|2003|    6|        22|        7|   1325|      1255|   1953|      1615|           AA|     1362| N569AA|              328|           140|    113|     218|      30|   ORD| JFK|     740|     9|    206|        0|               N|       0|           0|           0|     218|            0|                0|\n",
      "|  4|2003|    6|        23|        1|   1328|      1255|   1655|      1615|           AA|     1362| N4YUAA|              147|           140|    107|      40|      33|   ORD| JFK|     740|     8|     32|        0|               N|       0|           0|           0|      40|            0|                0|\n",
      "|  5|2003|    6|        25|        3|   1307|      1255|   1620|      1615|           AA|     1362| N519AA|              133|           140|    101|       5|      12|   ORD| JFK|     740|    12|     20|        0|               N|       0|        null|        null|    null|         null|             null|\n",
      "|  6|2003|    6|         5|        4|   1208|      1155|   1459|      1455|           AA|     1363| N4YTAA|              231|           240|    213|       4|      13|   BOS| DFW|    1562|     7|     11|        0|               N|       0|        null|        null|    null|         null|             null|\n",
      "|  7|2003|    6|         7|        6|   1207|      1155|   1451|      1455|           AA|     1363| N593AA|              224|           240|    203|      -4|      12|   BOS| DFW|    1562|     4|     17|        0|               N|       0|        null|        null|    null|         null|             null|\n",
      "|  8|2003|    6|         8|        7|   1206|      1155|   1445|      1455|           AA|     1363| N4WAAA|              219|           240|    204|     -10|      11|   BOS| DFW|    1562|     5|     10|        0|               N|       0|        null|        null|    null|         null|             null|\n",
      "|  9|2003|    6|        15|        7|   1202|      1155|   1504|      1455|           AA|     1363| N589AA|              242|           240|    216|       9|       7|   BOS| DFW|    1562|     8|     18|        0|               N|       0|        null|        null|    null|         null|             null|\n",
      "| 10|2003|    6|        23|        1|   1207|      1155|   1513|      1455|           AA|     1363| N4XNAA|              246|           240|    215|      18|      12|   BOS| DFW|    1562|    11|     20|        0|               N|       0|           8|           0|       6|            0|                4|\n",
      "| 11|2003|    6|        28|        6|   1209|      1155|   1511|      1455|           AA|     1363| N4XCAA|              242|           240|    209|      16|      14|   BOS| DFW|    1562|    18|     15|        0|               N|       0|           0|           0|       2|            0|               14|\n",
      "| 12|2003|    6|         2|        1|   1726|      1715|   2024|      2005|           AA|     1366| N584AA|              118|           110|     77|      19|      11|   COS| DFW|     592|    19|     22|        0|               N|       0|           0|           0|       8|            0|               11|\n",
      "| 13|2003|    6|         6|        5|   1748|      1715|   2029|      2005|           AA|     1366| N462AA|              101|           110|     82|      24|      33|   COS| DFW|     592|     8|     11|        0|               N|       0|           0|           0|       0|            0|               24|\n",
      "| 14|2003|    6|         9|        1|   1828|      1715|   2109|      2005|           AA|     1366| N530AA|              101|           110|     80|      64|      73|   COS| DFW|     592|     7|     14|        0|               N|       0|           0|           0|       3|            0|               61|\n",
      "| 15|2003|    6|        14|        6|   1724|      1715|   1958|      2005|           AA|     1366| N541AA|               94|           110|     72|      -7|       9|   COS| DFW|     592|     9|     13|        0|               N|       0|        null|        null|    null|         null|             null|\n",
      "| 16|2003|    6|        16|        1|   1747|      1715|   2042|      2005|           AA|     1366| N522AA|              115|           110|     77|      37|      32|   COS| DFW|     592|    26|     12|        0|               N|       0|           0|           0|       5|            0|               32|\n",
      "| 17|2003|    6|        19|        4|   1931|      1715|   2208|      2005|           AA|     1366| N570AA|               97|           110|     77|     123|     136|   COS| DFW|     592|     8|     12|        0|               N|       0|           0|           0|       0|            0|              123|\n",
      "| 18|2003|    6|        20|        5|   1847|      1715|   2128|      2005|           AA|     1366| N511AA|              101|           110|     79|      83|      92|   COS| DFW|     592|    10|     12|        0|               N|       0|           0|           0|       0|            0|               83|\n",
      "| 19|2003|    6|        21|        6|   1745|      1715|   2025|      2005|           AA|     1366| N587AA|              100|           110|     78|      20|      30|   COS| DFW|     592|     8|     14|        0|               N|       0|           0|           0|       0|            0|               20|\n",
      "| 20|2003|    6|        22|        7|   1724|      1715|   2003|      2005|           AA|     1366| N558AA|               99|           110|     77|      -2|       9|   COS| DFW|     592|    11|     11|        0|               N|       0|        null|        null|    null|         null|             null|\n",
      "+---+----+-----+----------+---------+-------+----------+-------+----------+-------------+---------+-------+-----------------+--------------+-------+--------+--------+------+----+--------+------+-------+---------+----------------+--------+------------+------------+--------+-------------+-----------------+\n",
      "only showing top 20 rows"
     ]
    }
   ],
   "source": [
    "df.show()"
   ]
  },
  {
   "cell_type": "code",
   "execution_count": 3,
   "id": "3e17416c-850c-4545-aa22-5a42aa850735",
   "metadata": {
    "execution": {
     "iopub.execute_input": "2023-03-05T02:39:58.547267Z",
     "iopub.status.busy": "2023-03-05T02:39:58.546879Z",
     "iopub.status.idle": "2023-03-05T02:40:06.056869Z",
     "shell.execute_reply": "2023-03-05T02:40:06.053169Z",
     "shell.execute_reply.started": "2023-03-05T02:39:58.547232Z"
    }
   },
   "outputs": [
    {
     "data": {
      "application/vnd.jupyter.widget-view+json": {
       "model_id": "f1263bb0dca34099899725a999d57de6",
       "version_major": 2,
       "version_minor": 0
      },
      "text/plain": [
       "VBox()"
      ]
     },
     "metadata": {},
     "output_type": "display_data"
    },
    {
     "data": {
      "application/vnd.jupyter.widget-view+json": {
       "model_id": "",
       "version_major": 2,
       "version_minor": 0
      },
      "text/plain": [
       "FloatProgress(value=0.0, bar_style='info', description='Progress:', layout=Layout(height='25px', width='50%'),…"
      ]
     },
     "metadata": {},
     "output_type": "display_data"
    }
   ],
   "source": [
    "df.write.saveAsTable(\"delay_flights\")"
   ]
  },
  {
   "cell_type": "code",
   "execution_count": 9,
   "id": "d9a7f1bb-0dd2-4aa7-96b4-20e3ac660eda",
   "metadata": {
    "execution": {
     "iopub.execute_input": "2023-03-05T02:56:51.138090Z",
     "iopub.status.busy": "2023-03-05T02:56:51.137796Z",
     "iopub.status.idle": "2023-03-05T02:57:08.840953Z",
     "shell.execute_reply": "2023-03-05T02:57:08.840099Z",
     "shell.execute_reply.started": "2023-03-05T02:56:51.138057Z"
    },
    "tags": []
   },
   "outputs": [
    {
     "data": {
      "application/vnd.jupyter.widget-view+json": {
       "model_id": "75b65407d03545cb87e7e4bc59baeb3d",
       "version_major": 2,
       "version_minor": 0
      },
      "text/plain": [
       "VBox()"
      ]
     },
     "metadata": {},
     "output_type": "display_data"
    },
    {
     "data": {
      "application/vnd.jupyter.widget-view+json": {
       "model_id": "",
       "version_major": 2,
       "version_minor": 0
      },
      "text/plain": [
       "FloatProgress(value=0.0, bar_style='info', description='Progress:', layout=Layout(height='25px', width='50%'),…"
      ]
     },
     "metadata": {},
     "output_type": "display_data"
    },
    {
     "name": "stdout",
     "output_type": "stream",
     "text": [
      "+----+--------------------------------------------------------------------------------------+\n",
      "|Year|avg(((CAST(CarrierDelay AS DOUBLE) / CAST(ArrDelay AS DOUBLE)) * CAST(100 AS DOUBLE)))|\n",
      "+----+--------------------------------------------------------------------------------------+\n",
      "|2003|                                                                    24.557549755575373|\n",
      "|2007|                                                                    19.850007017971283|\n",
      "|2010|                                                                     21.89310246015957|\n",
      "|2006|                                                                    30.453296261292596|\n",
      "|2004|                                                                     43.64459443230066|\n",
      "|2005|                                                                     28.01977637202288|\n",
      "|2009|                                                                     28.33058554239575|\n",
      "|2008|                                                                     28.88346981456985|\n",
      "+----+--------------------------------------------------------------------------------------+\n",
      "\n",
      "+----+--------------------------------------------------------------------------------------+\n",
      "|Year|avg(((CAST(CarrierDelay AS DOUBLE) / CAST(ArrDelay AS DOUBLE)) * CAST(100 AS DOUBLE)))|\n",
      "+----+--------------------------------------------------------------------------------------+\n",
      "|2003|                                                                    24.557549755575373|\n",
      "|2007|                                                                    19.850007017971283|\n",
      "|2010|                                                                     21.89310246015957|\n",
      "|2006|                                                                    30.453296261292596|\n",
      "|2004|                                                                     43.64459443230066|\n",
      "|2005|                                                                     28.01977637202288|\n",
      "|2009|                                                                     28.33058554239575|\n",
      "|2008|                                                                     28.88346981456985|\n",
      "+----+--------------------------------------------------------------------------------------+\n",
      "\n",
      "+----+--------------------------------------------------------------------------------------+\n",
      "|Year|avg(((CAST(CarrierDelay AS DOUBLE) / CAST(ArrDelay AS DOUBLE)) * CAST(100 AS DOUBLE)))|\n",
      "+----+--------------------------------------------------------------------------------------+\n",
      "|2003|                                                                    24.557549755575373|\n",
      "|2007|                                                                    19.850007017971283|\n",
      "|2010|                                                                     21.89310246015957|\n",
      "|2006|                                                                    30.453296261292596|\n",
      "|2004|                                                                     43.64459443230066|\n",
      "|2005|                                                                     28.01977637202288|\n",
      "|2009|                                                                     28.33058554239575|\n",
      "|2008|                                                                     28.88346981456985|\n",
      "+----+--------------------------------------------------------------------------------------+\n",
      "\n",
      "+----+--------------------------------------------------------------------------------------+\n",
      "|Year|avg(((CAST(CarrierDelay AS DOUBLE) / CAST(ArrDelay AS DOUBLE)) * CAST(100 AS DOUBLE)))|\n",
      "+----+--------------------------------------------------------------------------------------+\n",
      "|2003|                                                                    24.557549755575373|\n",
      "|2007|                                                                    19.850007017971283|\n",
      "|2010|                                                                     21.89310246015957|\n",
      "|2006|                                                                    30.453296261292596|\n",
      "|2004|                                                                     43.64459443230066|\n",
      "|2005|                                                                     28.01977637202288|\n",
      "|2009|                                                                     28.33058554239575|\n",
      "|2008|                                                                     28.88346981456985|\n",
      "+----+--------------------------------------------------------------------------------------+\n",
      "\n",
      "+----+--------------------------------------------------------------------------------------+\n",
      "|Year|avg(((CAST(CarrierDelay AS DOUBLE) / CAST(ArrDelay AS DOUBLE)) * CAST(100 AS DOUBLE)))|\n",
      "+----+--------------------------------------------------------------------------------------+\n",
      "|2003|                                                                    24.557549755575373|\n",
      "|2007|                                                                    19.850007017971283|\n",
      "|2010|                                                                     21.89310246015957|\n",
      "|2006|                                                                    30.453296261292596|\n",
      "|2004|                                                                     43.64459443230066|\n",
      "|2005|                                                                     28.01977637202288|\n",
      "|2009|                                                                     28.33058554239575|\n",
      "|2008|                                                                     28.88346981456985|\n",
      "+----+--------------------------------------------------------------------------------------+\n",
      "\n",
      "[12.406599044799805, 1.2795915603637695, 1.138254165649414, 1.0231375694274902, 1.125380516052246]"
     ]
    }
   ],
   "source": [
    "import time\n",
    "i=0\n",
    "carry = []\n",
    "while(i<5):\n",
    "    start = time.time()\n",
    "    result = sqlContext.sql(\"SELECT Year, avg((CarrierDelay /ArrDelay)*100) from delay_flights where Year>2002 AND Year < 2011 GROUP BY Year\").show()\n",
    "    carry.append(time.time() - start)\n",
    "    i=i+1\n",
    "    \n",
    "print(carry)"
   ]
  },
  {
   "cell_type": "code",
   "execution_count": 14,
   "id": "2c6f7847-eb7a-4bf8-9b21-87ccf7054e3a",
   "metadata": {
    "execution": {
     "iopub.execute_input": "2023-03-05T03:02:46.213048Z",
     "iopub.status.busy": "2023-03-05T03:02:46.212705Z",
     "iopub.status.idle": "2023-03-05T03:03:03.761287Z",
     "shell.execute_reply": "2023-03-05T03:03:03.760090Z",
     "shell.execute_reply.started": "2023-03-05T03:02:46.212995Z"
    },
    "tags": []
   },
   "outputs": [
    {
     "data": {
      "application/vnd.jupyter.widget-view+json": {
       "model_id": "9f51c9eee516426d8dcd71dee52f6f27",
       "version_major": 2,
       "version_minor": 0
      },
      "text/plain": [
       "VBox()"
      ]
     },
     "metadata": {},
     "output_type": "display_data"
    },
    {
     "data": {
      "application/vnd.jupyter.widget-view+json": {
       "model_id": "",
       "version_major": 2,
       "version_minor": 0
      },
      "text/plain": [
       "FloatProgress(value=0.0, bar_style='info', description='Progress:', layout=Layout(height='25px', width='50%'),…"
      ]
     },
     "metadata": {},
     "output_type": "display_data"
    },
    {
     "name": "stdout",
     "output_type": "stream",
     "text": [
      "+----+----------------------------------------------------------------------------------+\n",
      "|Year|avg(((CAST(NASDelay AS DOUBLE) / CAST(ArrDelay AS DOUBLE)) * CAST(100 AS DOUBLE)))|\n",
      "+----+----------------------------------------------------------------------------------+\n",
      "|2003|                                                                29.686276314267346|\n",
      "|2007|                                                                30.625925917941924|\n",
      "|2010|                                                                 33.87351363404217|\n",
      "|2006|                                                                18.119312329937703|\n",
      "|2004|                                                                 18.24570061769958|\n",
      "|2005|                                                                 16.63868805373129|\n",
      "|2009|                                                                 37.63093330628511|\n",
      "|2008|                                                                 30.16552562594132|\n",
      "+----+----------------------------------------------------------------------------------+\n",
      "\n",
      "+----+----------------------------------------------------------------------------------+\n",
      "|Year|avg(((CAST(NASDelay AS DOUBLE) / CAST(ArrDelay AS DOUBLE)) * CAST(100 AS DOUBLE)))|\n",
      "+----+----------------------------------------------------------------------------------+\n",
      "|2003|                                                                29.686276314267346|\n",
      "|2007|                                                                30.625925917941924|\n",
      "|2010|                                                                 33.87351363404217|\n",
      "|2006|                                                                18.119312329937703|\n",
      "|2004|                                                                 18.24570061769958|\n",
      "|2005|                                                                 16.63868805373129|\n",
      "|2009|                                                                 37.63093330628511|\n",
      "|2008|                                                                 30.16552562594132|\n",
      "+----+----------------------------------------------------------------------------------+\n",
      "\n",
      "+----+----------------------------------------------------------------------------------+\n",
      "|Year|avg(((CAST(NASDelay AS DOUBLE) / CAST(ArrDelay AS DOUBLE)) * CAST(100 AS DOUBLE)))|\n",
      "+----+----------------------------------------------------------------------------------+\n",
      "|2003|                                                                29.686276314267346|\n",
      "|2007|                                                                30.625925917941924|\n",
      "|2010|                                                                 33.87351363404217|\n",
      "|2006|                                                                18.119312329937703|\n",
      "|2004|                                                                 18.24570061769958|\n",
      "|2005|                                                                 16.63868805373129|\n",
      "|2009|                                                                 37.63093330628511|\n",
      "|2008|                                                                 30.16552562594132|\n",
      "+----+----------------------------------------------------------------------------------+\n",
      "\n",
      "+----+----------------------------------------------------------------------------------+\n",
      "|Year|avg(((CAST(NASDelay AS DOUBLE) / CAST(ArrDelay AS DOUBLE)) * CAST(100 AS DOUBLE)))|\n",
      "+----+----------------------------------------------------------------------------------+\n",
      "|2003|                                                                29.686276314267346|\n",
      "|2007|                                                                30.625925917941924|\n",
      "|2010|                                                                 33.87351363404217|\n",
      "|2006|                                                                18.119312329937703|\n",
      "|2004|                                                                 18.24570061769958|\n",
      "|2005|                                                                 16.63868805373129|\n",
      "|2009|                                                                 37.63093330628511|\n",
      "|2008|                                                                 30.16552562594132|\n",
      "+----+----------------------------------------------------------------------------------+\n",
      "\n",
      "+----+----------------------------------------------------------------------------------+\n",
      "|Year|avg(((CAST(NASDelay AS DOUBLE) / CAST(ArrDelay AS DOUBLE)) * CAST(100 AS DOUBLE)))|\n",
      "+----+----------------------------------------------------------------------------------+\n",
      "|2003|                                                                29.686276314267346|\n",
      "|2007|                                                                30.625925917941924|\n",
      "|2010|                                                                 33.87351363404217|\n",
      "|2006|                                                                18.119312329937703|\n",
      "|2004|                                                                 18.24570061769958|\n",
      "|2005|                                                                 16.63868805373129|\n",
      "|2009|                                                                 37.63093330628511|\n",
      "|2008|                                                                 30.16552562594132|\n",
      "+----+----------------------------------------------------------------------------------+\n",
      "\n",
      "[13.152228116989136, 0.8802993297576904, 0.8804140090942383, 0.9718475341796875, 0.6569221019744873]"
     ]
    }
   ],
   "source": [
    "import time\n",
    "i=0\n",
    "nas = []\n",
    "while(i<5):\n",
    "    start = time.time()\n",
    "    result = sqlContext.sql(\"SELECT Year, avg((NASDelay /ArrDelay)*100) from delay_flights where Year>2002 AND Year < 2011 GROUP BY Year\").show()\n",
    "    nas.append(time.time() - start)\n",
    "    i=i+1\n",
    "\n",
    "print(nas)"
   ]
  },
  {
   "cell_type": "code",
   "execution_count": 15,
   "id": "27bc3731-fa3b-4919-94ca-78fc92bd9b41",
   "metadata": {
    "execution": {
     "iopub.execute_input": "2023-03-05T03:04:58.151421Z",
     "iopub.status.busy": "2023-03-05T03:04:58.151129Z",
     "iopub.status.idle": "2023-03-05T03:05:17.997191Z",
     "shell.execute_reply": "2023-03-05T03:05:17.996196Z",
     "shell.execute_reply.started": "2023-03-05T03:04:58.151387Z"
    },
    "tags": []
   },
   "outputs": [
    {
     "data": {
      "application/vnd.jupyter.widget-view+json": {
       "model_id": "ee5fc382566f480782694927aec1a63a",
       "version_major": 2,
       "version_minor": 0
      },
      "text/plain": [
       "VBox()"
      ]
     },
     "metadata": {},
     "output_type": "display_data"
    },
    {
     "data": {
      "application/vnd.jupyter.widget-view+json": {
       "model_id": "",
       "version_major": 2,
       "version_minor": 0
      },
      "text/plain": [
       "FloatProgress(value=0.0, bar_style='info', description='Progress:', layout=Layout(height='25px', width='50%'),…"
      ]
     },
     "metadata": {},
     "output_type": "display_data"
    },
    {
     "name": "stdout",
     "output_type": "stream",
     "text": [
      "+----+--------------------------------------------------------------------------------------+\n",
      "|Year|avg(((CAST(WeatherDelay AS DOUBLE) / CAST(ArrDelay AS DOUBLE)) * CAST(100 AS DOUBLE)))|\n",
      "+----+--------------------------------------------------------------------------------------+\n",
      "|2003|                                                                    7.8319479664511205|\n",
      "|2007|                                                                     4.042975783210287|\n",
      "|2010|                                                                    2.9023312955584664|\n",
      "|2006|                                                                     4.588604183967953|\n",
      "|2004|                                                                    6.4475279976916555|\n",
      "|2005|                                                                      5.85069715149616|\n",
      "|2009|                                                                   0.45316615137982363|\n",
      "|2008|                                                                    3.7254490054008955|\n",
      "+----+--------------------------------------------------------------------------------------+\n",
      "\n",
      "+----+--------------------------------------------------------------------------------------+\n",
      "|Year|avg(((CAST(WeatherDelay AS DOUBLE) / CAST(ArrDelay AS DOUBLE)) * CAST(100 AS DOUBLE)))|\n",
      "+----+--------------------------------------------------------------------------------------+\n",
      "|2003|                                                                    7.8319479664511205|\n",
      "|2007|                                                                     4.042975783210287|\n",
      "|2010|                                                                    2.9023312955584664|\n",
      "|2006|                                                                     4.588604183967953|\n",
      "|2004|                                                                    6.4475279976916555|\n",
      "|2005|                                                                      5.85069715149616|\n",
      "|2009|                                                                   0.45316615137982363|\n",
      "|2008|                                                                    3.7254490054008955|\n",
      "+----+--------------------------------------------------------------------------------------+\n",
      "\n",
      "+----+--------------------------------------------------------------------------------------+\n",
      "|Year|avg(((CAST(WeatherDelay AS DOUBLE) / CAST(ArrDelay AS DOUBLE)) * CAST(100 AS DOUBLE)))|\n",
      "+----+--------------------------------------------------------------------------------------+\n",
      "|2003|                                                                    7.8319479664511205|\n",
      "|2007|                                                                     4.042975783210287|\n",
      "|2010|                                                                    2.9023312955584664|\n",
      "|2006|                                                                     4.588604183967953|\n",
      "|2004|                                                                    6.4475279976916555|\n",
      "|2005|                                                                      5.85069715149616|\n",
      "|2009|                                                                   0.45316615137982363|\n",
      "|2008|                                                                    3.7254490054008955|\n",
      "+----+--------------------------------------------------------------------------------------+\n",
      "\n",
      "+----+--------------------------------------------------------------------------------------+\n",
      "|Year|avg(((CAST(WeatherDelay AS DOUBLE) / CAST(ArrDelay AS DOUBLE)) * CAST(100 AS DOUBLE)))|\n",
      "+----+--------------------------------------------------------------------------------------+\n",
      "|2003|                                                                    7.8319479664511205|\n",
      "|2007|                                                                     4.042975783210287|\n",
      "|2010|                                                                    2.9023312955584664|\n",
      "|2006|                                                                     4.588604183967953|\n",
      "|2004|                                                                    6.4475279976916555|\n",
      "|2005|                                                                      5.85069715149616|\n",
      "|2009|                                                                   0.45316615137982363|\n",
      "|2008|                                                                    3.7254490054008955|\n",
      "+----+--------------------------------------------------------------------------------------+\n",
      "\n",
      "+----+--------------------------------------------------------------------------------------+\n",
      "|Year|avg(((CAST(WeatherDelay AS DOUBLE) / CAST(ArrDelay AS DOUBLE)) * CAST(100 AS DOUBLE)))|\n",
      "+----+--------------------------------------------------------------------------------------+\n",
      "|2003|                                                                    7.8319479664511205|\n",
      "|2007|                                                                     4.042975783210287|\n",
      "|2010|                                                                    2.9023312955584664|\n",
      "|2006|                                                                     4.588604183967953|\n",
      "|2004|                                                                    6.4475279976916555|\n",
      "|2005|                                                                      5.85069715149616|\n",
      "|2009|                                                                   0.45316615137982363|\n",
      "|2008|                                                                    3.7254490054008955|\n",
      "+----+--------------------------------------------------------------------------------------+\n",
      "\n",
      "[12.869133472442627, 0.8308539390563965, 1.1259815692901611, 2.1450445652008057, 1.0541093349456787]"
     ]
    }
   ],
   "source": [
    "import time\n",
    "i=0\n",
    "weather = []\n",
    "while(i<5):\n",
    "    start = time.time()\n",
    "    result = sqlContext.sql(\"SELECT Year, avg((WeatherDelay /ArrDelay)*100) from delay_flights where Year>2002 AND Year < 2011 GROUP BY Year\").show()\n",
    "    weather.append(time.time() - start)\n",
    "    i=i+1\n",
    "    \n",
    "print(weather)"
   ]
  },
  {
   "cell_type": "code",
   "execution_count": 12,
   "id": "f26535dd-ccb0-4ad4-b626-8ce3aeaa22ee",
   "metadata": {
    "execution": {
     "iopub.execute_input": "2023-03-05T02:59:43.957464Z",
     "iopub.status.busy": "2023-03-05T02:59:43.957178Z",
     "iopub.status.idle": "2023-03-05T03:00:01.500045Z",
     "shell.execute_reply": "2023-03-05T03:00:01.499097Z",
     "shell.execute_reply.started": "2023-03-05T02:59:43.957431Z"
    }
   },
   "outputs": [
    {
     "data": {
      "application/vnd.jupyter.widget-view+json": {
       "model_id": "2f4f2d551d414ec0928388727cb76699",
       "version_major": 2,
       "version_minor": 0
      },
      "text/plain": [
       "VBox()"
      ]
     },
     "metadata": {},
     "output_type": "display_data"
    },
    {
     "data": {
      "application/vnd.jupyter.widget-view+json": {
       "model_id": "",
       "version_major": 2,
       "version_minor": 0
      },
      "text/plain": [
       "FloatProgress(value=0.0, bar_style='info', description='Progress:', layout=Layout(height='25px', width='50%'),…"
      ]
     },
     "metadata": {},
     "output_type": "display_data"
    },
    {
     "name": "stdout",
     "output_type": "stream",
     "text": [
      "+----+-------------------------------------------------------------------------------------------+\n",
      "|Year|avg(((CAST(LateAircraftDelay AS DOUBLE) / CAST(ArrDelay AS DOUBLE)) * CAST(100 AS DOUBLE)))|\n",
      "+----+-------------------------------------------------------------------------------------------+\n",
      "|2003|                                                                         37.924225963706164|\n",
      "|2007|                                                                         45.252432744291134|\n",
      "|2010|                                                                         41.331052610239794|\n",
      "|2006|                                                                         46.838787224801735|\n",
      "|2004|                                                                         31.662176952308105|\n",
      "|2005|                                                                         49.490838422749654|\n",
      "|2009|                                                                         33.585314999939314|\n",
      "|2008|                                                                          37.22555555408794|\n",
      "+----+-------------------------------------------------------------------------------------------+\n",
      "\n",
      "+----+-------------------------------------------------------------------------------------------+\n",
      "|Year|avg(((CAST(LateAircraftDelay AS DOUBLE) / CAST(ArrDelay AS DOUBLE)) * CAST(100 AS DOUBLE)))|\n",
      "+----+-------------------------------------------------------------------------------------------+\n",
      "|2003|                                                                         37.924225963706164|\n",
      "|2007|                                                                         45.252432744291134|\n",
      "|2010|                                                                         41.331052610239794|\n",
      "|2006|                                                                         46.838787224801735|\n",
      "|2004|                                                                         31.662176952308105|\n",
      "|2005|                                                                         49.490838422749654|\n",
      "|2009|                                                                         33.585314999939314|\n",
      "|2008|                                                                          37.22555555408794|\n",
      "+----+-------------------------------------------------------------------------------------------+\n",
      "\n",
      "+----+-------------------------------------------------------------------------------------------+\n",
      "|Year|avg(((CAST(LateAircraftDelay AS DOUBLE) / CAST(ArrDelay AS DOUBLE)) * CAST(100 AS DOUBLE)))|\n",
      "+----+-------------------------------------------------------------------------------------------+\n",
      "|2003|                                                                         37.924225963706164|\n",
      "|2007|                                                                         45.252432744291134|\n",
      "|2010|                                                                         41.331052610239794|\n",
      "|2006|                                                                         46.838787224801735|\n",
      "|2004|                                                                         31.662176952308105|\n",
      "|2005|                                                                         49.490838422749654|\n",
      "|2009|                                                                         33.585314999939314|\n",
      "|2008|                                                                          37.22555555408794|\n",
      "+----+-------------------------------------------------------------------------------------------+\n",
      "\n",
      "+----+-------------------------------------------------------------------------------------------+\n",
      "|Year|avg(((CAST(LateAircraftDelay AS DOUBLE) / CAST(ArrDelay AS DOUBLE)) * CAST(100 AS DOUBLE)))|\n",
      "+----+-------------------------------------------------------------------------------------------+\n",
      "|2003|                                                                         37.924225963706164|\n",
      "|2007|                                                                         45.252432744291134|\n",
      "|2010|                                                                         41.331052610239794|\n",
      "|2006|                                                                         46.838787224801735|\n",
      "|2004|                                                                         31.662176952308105|\n",
      "|2005|                                                                         49.490838422749654|\n",
      "|2009|                                                                         33.585314999939314|\n",
      "|2008|                                                                          37.22555555408794|\n",
      "+----+-------------------------------------------------------------------------------------------+\n",
      "\n",
      "+----+-------------------------------------------------------------------------------------------+\n",
      "|Year|avg(((CAST(LateAircraftDelay AS DOUBLE) / CAST(ArrDelay AS DOUBLE)) * CAST(100 AS DOUBLE)))|\n",
      "+----+-------------------------------------------------------------------------------------------+\n",
      "|2003|                                                                         37.924225963706164|\n",
      "|2007|                                                                         45.252432744291134|\n",
      "|2010|                                                                         41.331052610239794|\n",
      "|2006|                                                                         46.838787224801735|\n",
      "|2004|                                                                         31.662176952308105|\n",
      "|2005|                                                                         49.490838422749654|\n",
      "|2009|                                                                         33.585314999939314|\n",
      "|2008|                                                                          37.22555555408794|\n",
      "+----+-------------------------------------------------------------------------------------------+\n",
      "\n",
      "[13.047493696212769, 0.6486423015594482, 1.0551636219024658, 0.790210485458374, 1.1829113960266113]"
     ]
    }
   ],
   "source": [
    "import time\n",
    "i=0\n",
    "late = []\n",
    "while(i<5):\n",
    "    start = time.time()\n",
    "    result = sqlContext.sql(\"SELECT Year, avg((LateAircraftDelay /ArrDelay)*100) from delay_flights where Year>2002 AND Year < 2011 GROUP BY Year\").show()\n",
    "    late.append(time.time() - start)\n",
    "    i=i+1\n",
    "    \n",
    "print(late)"
   ]
  },
  {
   "cell_type": "code",
   "execution_count": 13,
   "id": "2405d321-2d09-48f7-86b4-9090f0a6adb7",
   "metadata": {
    "execution": {
     "iopub.execute_input": "2023-03-05T03:01:12.146708Z",
     "iopub.status.busy": "2023-03-05T03:01:12.146392Z",
     "iopub.status.idle": "2023-03-05T03:01:32.620542Z",
     "shell.execute_reply": "2023-03-05T03:01:32.619529Z",
     "shell.execute_reply.started": "2023-03-05T03:01:12.146675Z"
    }
   },
   "outputs": [
    {
     "data": {
      "application/vnd.jupyter.widget-view+json": {
       "model_id": "94126a07ea36421fa56c087be42fd0c3",
       "version_major": 2,
       "version_minor": 0
      },
      "text/plain": [
       "VBox()"
      ]
     },
     "metadata": {},
     "output_type": "display_data"
    },
    {
     "data": {
      "application/vnd.jupyter.widget-view+json": {
       "model_id": "",
       "version_major": 2,
       "version_minor": 0
      },
      "text/plain": [
       "FloatProgress(value=0.0, bar_style='info', description='Progress:', layout=Layout(height='25px', width='50%'),…"
      ]
     },
     "metadata": {},
     "output_type": "display_data"
    },
    {
     "name": "stdout",
     "output_type": "stream",
     "text": [
      "+----+---------------------------------------------------------------------------------------+\n",
      "|Year|avg(((CAST(SecurityDelay AS DOUBLE) / CAST(ArrDelay AS DOUBLE)) * CAST(100 AS DOUBLE)))|\n",
      "+----+---------------------------------------------------------------------------------------+\n",
      "|2003|                                                                                    0.0|\n",
      "|2007|                                                                    0.22865853658536586|\n",
      "|2010|                                                                                    0.0|\n",
      "|2006|                                                                                    0.0|\n",
      "|2004|                                                                                    0.0|\n",
      "|2005|                                                                                    0.0|\n",
      "|2009|                                                                                    0.0|\n",
      "|2008|                                                                                    0.0|\n",
      "+----+---------------------------------------------------------------------------------------+\n",
      "\n",
      "+----+---------------------------------------------------------------------------------------+\n",
      "|Year|avg(((CAST(SecurityDelay AS DOUBLE) / CAST(ArrDelay AS DOUBLE)) * CAST(100 AS DOUBLE)))|\n",
      "+----+---------------------------------------------------------------------------------------+\n",
      "|2003|                                                                                    0.0|\n",
      "|2007|                                                                    0.22865853658536586|\n",
      "|2010|                                                                                    0.0|\n",
      "|2006|                                                                                    0.0|\n",
      "|2004|                                                                                    0.0|\n",
      "|2005|                                                                                    0.0|\n",
      "|2009|                                                                                    0.0|\n",
      "|2008|                                                                                    0.0|\n",
      "+----+---------------------------------------------------------------------------------------+\n",
      "\n",
      "+----+---------------------------------------------------------------------------------------+\n",
      "|Year|avg(((CAST(SecurityDelay AS DOUBLE) / CAST(ArrDelay AS DOUBLE)) * CAST(100 AS DOUBLE)))|\n",
      "+----+---------------------------------------------------------------------------------------+\n",
      "|2003|                                                                                    0.0|\n",
      "|2007|                                                                    0.22865853658536586|\n",
      "|2010|                                                                                    0.0|\n",
      "|2006|                                                                                    0.0|\n",
      "|2004|                                                                                    0.0|\n",
      "|2005|                                                                                    0.0|\n",
      "|2009|                                                                                    0.0|\n",
      "|2008|                                                                                    0.0|\n",
      "+----+---------------------------------------------------------------------------------------+\n",
      "\n",
      "+----+---------------------------------------------------------------------------------------+\n",
      "|Year|avg(((CAST(SecurityDelay AS DOUBLE) / CAST(ArrDelay AS DOUBLE)) * CAST(100 AS DOUBLE)))|\n",
      "+----+---------------------------------------------------------------------------------------+\n",
      "|2003|                                                                                    0.0|\n",
      "|2007|                                                                    0.22865853658536586|\n",
      "|2010|                                                                                    0.0|\n",
      "|2006|                                                                                    0.0|\n",
      "|2004|                                                                                    0.0|\n",
      "|2005|                                                                                    0.0|\n",
      "|2009|                                                                                    0.0|\n",
      "|2008|                                                                                    0.0|\n",
      "+----+---------------------------------------------------------------------------------------+\n",
      "\n",
      "+----+---------------------------------------------------------------------------------------+\n",
      "|Year|avg(((CAST(SecurityDelay AS DOUBLE) / CAST(ArrDelay AS DOUBLE)) * CAST(100 AS DOUBLE)))|\n",
      "+----+---------------------------------------------------------------------------------------+\n",
      "|2003|                                                                                    0.0|\n",
      "|2007|                                                                    0.22865853658536586|\n",
      "|2010|                                                                                    0.0|\n",
      "|2006|                                                                                    0.0|\n",
      "|2004|                                                                                    0.0|\n",
      "|2005|                                                                                    0.0|\n",
      "|2009|                                                                                    0.0|\n",
      "|2008|                                                                                    0.0|\n",
      "+----+---------------------------------------------------------------------------------------+\n",
      "\n",
      "[13.953045129776001, 0.9230127334594727, 0.8143160343170166, 0.5777699947357178, 1.168813705444336]"
     ]
    }
   ],
   "source": [
    "import time\n",
    "i=0\n",
    "sec = []\n",
    "while(i<5):\n",
    "    start = time.time()\n",
    "    result = sqlContext.sql(\"SELECT Year, avg((SecurityDelay /ArrDelay)*100) from delay_flights where Year>2002 AND Year < 2011 GROUP BY Year\").show()\n",
    "    sec.append(time.time() - start)\n",
    "    i=i+1\n",
    "    \n",
    "print(sec)"
   ]
  },
  {
   "cell_type": "code",
   "execution_count": null,
   "id": "2d54fac5-6211-444b-9b7c-d17da43d7b6e",
   "metadata": {},
   "outputs": [],
   "source": []
  }
 ],
 "metadata": {
  "kernelspec": {
   "display_name": "PySpark",
   "language": "python",
   "name": "pysparkkernel"
  },
  "language_info": {
   "codemirror_mode": {
    "name": "python",
    "version": 3
   },
   "file_extension": ".py",
   "mimetype": "text/x-python",
   "name": "pyspark",
   "pygments_lexer": "python3"
  }
 },
 "nbformat": 4,
 "nbformat_minor": 5
}
